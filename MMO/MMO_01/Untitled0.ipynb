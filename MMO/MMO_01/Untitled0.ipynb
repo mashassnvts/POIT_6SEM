{
  "nbformat": 4,
  "nbformat_minor": 0,
  "metadata": {
    "colab": {
      "provenance": []
    },
    "kernelspec": {
      "name": "python3",
      "display_name": "Python 3"
    },
    "language_info": {
      "name": "python"
    }
  },
  "cells": [
    {
      "cell_type": "code",
      "execution_count": null,
      "metadata": {
        "id": "LvmEKYL3aBGF"
      },
      "outputs": [],
      "source": []
    },
    {
      "cell_type": "code",
      "source": [
        "!pip install numpy pandas matplotlib"
      ],
      "metadata": {
        "colab": {
          "base_uri": "https://localhost:8080/"
        },
        "id": "VALlW1P6bTec",
        "outputId": "cfd6f345-81b2-4d15-a780-eebffd2d4fd2"
      },
      "execution_count": 1,
      "outputs": [
        {
          "output_type": "stream",
          "name": "stdout",
          "text": [
            "Requirement already satisfied: numpy in /usr/local/lib/python3.11/dist-packages (1.26.4)\n",
            "Requirement already satisfied: pandas in /usr/local/lib/python3.11/dist-packages (2.2.2)\n",
            "Requirement already satisfied: matplotlib in /usr/local/lib/python3.11/dist-packages (3.10.0)\n",
            "Requirement already satisfied: python-dateutil>=2.8.2 in /usr/local/lib/python3.11/dist-packages (from pandas) (2.8.2)\n",
            "Requirement already satisfied: pytz>=2020.1 in /usr/local/lib/python3.11/dist-packages (from pandas) (2025.1)\n",
            "Requirement already satisfied: tzdata>=2022.7 in /usr/local/lib/python3.11/dist-packages (from pandas) (2025.1)\n",
            "Requirement already satisfied: contourpy>=1.0.1 in /usr/local/lib/python3.11/dist-packages (from matplotlib) (1.3.1)\n",
            "Requirement already satisfied: cycler>=0.10 in /usr/local/lib/python3.11/dist-packages (from matplotlib) (0.12.1)\n",
            "Requirement already satisfied: fonttools>=4.22.0 in /usr/local/lib/python3.11/dist-packages (from matplotlib) (4.55.8)\n",
            "Requirement already satisfied: kiwisolver>=1.3.1 in /usr/local/lib/python3.11/dist-packages (from matplotlib) (1.4.8)\n",
            "Requirement already satisfied: packaging>=20.0 in /usr/local/lib/python3.11/dist-packages (from matplotlib) (24.2)\n",
            "Requirement already satisfied: pillow>=8 in /usr/local/lib/python3.11/dist-packages (from matplotlib) (11.1.0)\n",
            "Requirement already satisfied: pyparsing>=2.3.1 in /usr/local/lib/python3.11/dist-packages (from matplotlib) (3.2.1)\n",
            "Requirement already satisfied: six>=1.5 in /usr/local/lib/python3.11/dist-packages (from python-dateutil>=2.8.2->pandas) (1.17.0)\n"
          ]
        }
      ]
    },
    {
      "cell_type": "code",
      "source": [
        "import numpy as np\n",
        "import pandas as pd\n",
        "import matplotlib.pyplot as plt\n",
        "\n",
        "%matplotlib inline"
      ],
      "metadata": {
        "id": "lmOAAc72beri"
      },
      "execution_count": 2,
      "outputs": []
    },
    {
      "cell_type": "markdown",
      "source": [
        " создайте двумерный массив из 20 целых случайных чисел"
      ],
      "metadata": {
        "id": "7MZmhZqpb0dY"
      }
    },
    {
      "cell_type": "code",
      "source": [
        "array = np.random.randint(30,90, size=(8,8))\n",
        "print(\"a two-dimensional array of 20 random integer:\\n\", array)"
      ],
      "metadata": {
        "colab": {
          "base_uri": "https://localhost:8080/"
        },
        "id": "HBywiD3fb4SW",
        "outputId": "4f164124-a945-4f12-9edf-0cf60f616839"
      },
      "execution_count": 11,
      "outputs": [
        {
          "output_type": "stream",
          "name": "stdout",
          "text": [
            "a two-dimensional array of 20 random integer:\n",
            " [[84 47 30 45 70 30 88 67]\n",
            " [88 35 70 50 63 64 80 69]\n",
            " [30 41 75 86 71 54 76 34]\n",
            " [42 85 43 68 70 58 72 30]\n",
            " [61 81 47 80 56 75 77 41]\n",
            " [78 38 59 85 50 71 62 45]\n",
            " [68 32 37 54 35 37 46 67]\n",
            " [63 85 48 40 31 54 82 49]]\n"
          ]
        }
      ]
    },
    {
      "cell_type": "markdown",
      "source": [
        "разделите полученный массив на 2 массива"
      ],
      "metadata": {
        "id": "p_pH4EOwcqJQ"
      }
    },
    {
      "cell_type": "code",
      "source": [
        "array1, array2 = np.array_split(array,2)\n",
        "print(\"Splitting the array1:\\n\", array1)\n",
        "print(\"Splitting the array2:\\n\", array2)"
      ],
      "metadata": {
        "colab": {
          "base_uri": "https://localhost:8080/"
        },
        "id": "r1M_ha3-csjB",
        "outputId": "9f55523a-09fd-4b40-b1f4-2a0a60afaf25"
      },
      "execution_count": 13,
      "outputs": [
        {
          "output_type": "stream",
          "name": "stdout",
          "text": [
            "Splitting the array1:\n",
            " [[84 47 30 45 70 30 88 67]\n",
            " [88 35 70 50 63 64 80 69]\n",
            " [30 41 75 86 71 54 76 34]\n",
            " [42 85 43 68 70 58 72 30]]\n",
            "Splitting the array2:\n",
            " [[61 81 47 80 56 75 77 41]\n",
            " [78 38 59 85 50 71 62 45]\n",
            " [68 32 37 54 35 37 46 67]\n",
            " [63 85 48 40 31 54 82 49]]\n"
          ]
        }
      ]
    },
    {
      "cell_type": "markdown",
      "source": [
        "найдите все заданные значения в первом массиве (например, равные 6)"
      ],
      "metadata": {
        "id": "6yXjWWcod0mq"
      }
    },
    {
      "cell_type": "code",
      "source": [
        "result = np.where(array1 == 70)\n",
        "print(result)"
      ],
      "metadata": {
        "colab": {
          "base_uri": "https://localhost:8080/"
        },
        "id": "yTDquyrVd4hf",
        "outputId": "a45c3070-1ea2-4898-f0a5-78b9445c48dc"
      },
      "execution_count": 14,
      "outputs": [
        {
          "output_type": "stream",
          "name": "stdout",
          "text": [
            "(array([0, 1, 3]), array([4, 2, 4]))\n"
          ]
        }
      ]
    },
    {
      "cell_type": "markdown",
      "source": [
        " подсчитайте количество найденных элементов\n"
      ],
      "metadata": {
        "id": "rXYkME0yeUcv"
      }
    },
    {
      "cell_type": "code",
      "source": [
        "print(len(result))"
      ],
      "metadata": {
        "colab": {
          "base_uri": "https://localhost:8080/"
        },
        "id": "nlJkPC6UeZ4V",
        "outputId": "8f325913-186c-4ce0-f85d-70966d0df180"
      },
      "execution_count": 15,
      "outputs": [
        {
          "output_type": "stream",
          "name": "stdout",
          "text": [
            "2\n"
          ]
        }
      ]
    },
    {
      "cell_type": "markdown",
      "source": [
        "**2. Pandas. Изучите структуры данных Series и Dataframe:**\n"
      ],
      "metadata": {
        "id": "YzvFlWZPenJK"
      }
    },
    {
      "cell_type": "markdown",
      "source": [
        " создайте объект Series из массива NumPy"
      ],
      "metadata": {
        "id": "8pLYOOCCez7b"
      }
    },
    {
      "cell_type": "code",
      "source": [
        "series = np.random.randint(30, 90, size=(14))\n",
        "print(\"series:\\n\", series)"
      ],
      "metadata": {
        "colab": {
          "base_uri": "https://localhost:8080/"
        },
        "id": "qfBicB5de3Jm",
        "outputId": "815364e1-1d07-4885-9eb8-aba2edc58de8"
      },
      "execution_count": 17,
      "outputs": [
        {
          "output_type": "stream",
          "name": "stdout",
          "text": [
            "series:\n",
            " [86 42 66 54 30 67 73 66 58 86 54 30 46 52]\n"
          ]
        }
      ]
    },
    {
      "cell_type": "markdown",
      "source": [
        " произведите с ним различные математические операции\n"
      ],
      "metadata": {
        "id": "ZakEDptpfOQh"
      }
    },
    {
      "cell_type": "code",
      "source": [
        "print(series.mean())\n",
        "print(series.sum())\n",
        "print(series.max())\n",
        "print(series.var())"
      ],
      "metadata": {
        "colab": {
          "base_uri": "https://localhost:8080/"
        },
        "id": "WHn-0Q3qfSwq",
        "outputId": "3a010136-1004-4b45-fd75-264390c3a49b"
      },
      "execution_count": 26,
      "outputs": [
        {
          "output_type": "stream",
          "name": "stdout",
          "text": [
            "57.857142857142854\n",
            "810\n",
            "86\n",
            "288.4081632653062\n"
          ]
        }
      ]
    },
    {
      "cell_type": "markdown",
      "source": [
        " создайте объект Dataframe из массива NumPy\n"
      ],
      "metadata": {
        "id": "k7S8VAG4g9fv"
      }
    },
    {
      "cell_type": "code",
      "source": [
        "df = pd.DataFrame(array, columns = ['M' , 'A' , 'S' , 'H' , 'A', 'S', 'S', 'N'])\n",
        "print(\"dataframe:\\n\", df)"
      ],
      "metadata": {
        "colab": {
          "base_uri": "https://localhost:8080/"
        },
        "id": "6qtRK9THhUto",
        "outputId": "ae8c21e9-ea25-4945-a85a-7a17e0d65669"
      },
      "execution_count": 28,
      "outputs": [
        {
          "output_type": "stream",
          "name": "stdout",
          "text": [
            "dataframe:\n",
            "     M   A   S   H   A   S   S   N\n",
            "0  84  47  30  45  70  30  88  67\n",
            "1  88  35  70  50  63  64  80  69\n",
            "2  30  41  75  86  71  54  76  34\n",
            "3  42  85  43  68  70  58  72  30\n",
            "4  61  81  47  80  56  75  77  41\n",
            "5  78  38  59  85  50  71  62  45\n",
            "6  68  32  37  54  35  37  46  67\n",
            "7  63  85  48  40  31  54  82  49\n"
          ]
        }
      ]
    },
    {
      "cell_type": "markdown",
      "source": [
        " напишите строку заголовков в созданном Dataframe\n"
      ],
      "metadata": {
        "id": "OrrE--2EjzF7"
      }
    },
    {
      "cell_type": "code",
      "source": [
        "print(list(df.columns))"
      ],
      "metadata": {
        "colab": {
          "base_uri": "https://localhost:8080/"
        },
        "id": "xyX1OJ_Kj0Qu",
        "outputId": "db82d09a-a643-45d3-ffa8-65b99f531ebe"
      },
      "execution_count": 29,
      "outputs": [
        {
          "output_type": "stream",
          "name": "stdout",
          "text": [
            "['M', 'A', 'S', 'H', 'A', 'S', 'S', 'N']\n"
          ]
        }
      ]
    },
    {
      "cell_type": "markdown",
      "source": [
        " удалите любую строку\n",
        " удалите любой столбец\n"
      ],
      "metadata": {
        "id": "7e7vA2kpkXRh"
      }
    },
    {
      "cell_type": "code",
      "source": [
        "df = df.drop(index=0)# первая строка\n",
        "df = df.drop(columns='N')\n",
        "print(df)"
      ],
      "metadata": {
        "colab": {
          "base_uri": "https://localhost:8080/"
        },
        "id": "SUX0MryMkY_-",
        "outputId": "9bb6301b-cf6e-40b5-d3d5-6fc7f664a523"
      },
      "execution_count": 30,
      "outputs": [
        {
          "output_type": "stream",
          "name": "stdout",
          "text": [
            "    M   A   S   H   A   S   S\n",
            "1  88  35  70  50  63  64  80\n",
            "2  30  41  75  86  71  54  76\n",
            "3  42  85  43  68  70  58  72\n",
            "4  61  81  47  80  56  75  77\n",
            "5  78  38  59  85  50  71  62\n",
            "6  68  32  37  54  35  37  46\n",
            "7  63  85  48  40  31  54  82\n"
          ]
        }
      ]
    },
    {
      "cell_type": "markdown",
      "source": [
        " выведите размер получившегося Dataframe\n"
      ],
      "metadata": {
        "id": "G9uMOD3fk9ow"
      }
    },
    {
      "cell_type": "code",
      "source": [
        "print(df.size)"
      ],
      "metadata": {
        "colab": {
          "base_uri": "https://localhost:8080/"
        },
        "id": "XE7Fzt3elHFk",
        "outputId": "04808902-9ada-4c75-80f0-16f537478141"
      },
      "execution_count": 31,
      "outputs": [
        {
          "output_type": "stream",
          "name": "stdout",
          "text": [
            "49\n"
          ]
        }
      ]
    },
    {
      "cell_type": "markdown",
      "source": [
        " найдите все элементы равные какому-либо числу\n"
      ],
      "metadata": {
        "id": "NIwl8cBmlRnz"
      }
    },
    {
      "cell_type": "code",
      "source": [
        "print(df[df['M']==78])"
      ],
      "metadata": {
        "colab": {
          "base_uri": "https://localhost:8080/"
        },
        "id": "ZlEBMFbblUKX",
        "outputId": "fecb2a48-abdf-4456-86a7-605e68c5e633"
      },
      "execution_count": 32,
      "outputs": [
        {
          "output_type": "stream",
          "name": "stdout",
          "text": [
            "    M   A   S   H   A   S   S\n",
            "5  78  38  59  85  50  71  62\n"
          ]
        }
      ]
    },
    {
      "cell_type": "markdown",
      "source": [
        "2. Импортируйте данный csv-файл в python используя модуль pandas, выведите данные для\n",
        "просмотра"
      ],
      "metadata": {
        "id": "1Qoec3cunpx_"
      }
    },
    {
      "cell_type": "code",
      "source": [
        "pony = pd.read_csv(\"pony_data.csv\")\n",
        "print(pony)"
      ],
      "metadata": {
        "colab": {
          "base_uri": "https://localhost:8080/"
        },
        "id": "QVN8knvFnwI9",
        "outputId": "dd6ef3f6-b949-49be-95ad-105e4554d386"
      },
      "execution_count": 38,
      "outputs": [
        {
          "output_type": "stream",
          "name": "stdout",
          "text": [
            "                             title  \\\n",
            "0      Friendship is Magic, part 1   \n",
            "1      Friendship is Magic, part 2   \n",
            "2                The Ticket Master   \n",
            "3                 Applebuck Season   \n",
            "4            Griffon the Brush Off   \n",
            "..                             ...   \n",
            "192             Father Knows Beast   \n",
            "193           School Raze - Part 1   \n",
            "194           School Raze - Part 2   \n",
            "195       My Little Pony The Movie   \n",
            "196  My Little Pony Best Gift Ever   \n",
            "\n",
            "                                                writer        date  \\\n",
            "0                                         Lauren Faust  2010-10-10   \n",
            "1                                         Lauren Faust  2010-10-22   \n",
            "2                    Amy Keating Rogers & Lauren Faust  2010-10-29   \n",
            "3                                   Amy Keating Rogers  2010-11-05   \n",
            "4                                         Cindy Morrow  2010-11-12   \n",
            "..                                                 ...         ...   \n",
            "192                                         Josh Haber  2018-10-06   \n",
            "193                                       Nicole Dubuc  2018-10-13   \n",
            "194                                         Josh Haber  2018-10-13   \n",
            "195  Meghan McCarthy, Rita Hsiao, & Michael Vogel; ...  2017-10-06   \n",
            "196                                      Michael Vogel  2018-10-27   \n",
            "\n",
            "                                            transcript  \\\n",
            "0    https://mlp.fandom.com/wiki/Transcripts/Friend...   \n",
            "1    https://mlp.fandom.com/wiki/Transcripts/Friend...   \n",
            "2    https://mlp.fandom.com/wiki/Transcripts/The_Ti...   \n",
            "3    https://mlp.fandom.com/wiki/Transcripts/Appleb...   \n",
            "4    https://mlp.fandom.com/wiki/Transcripts/Griffo...   \n",
            "..                                                 ...   \n",
            "192  https://mlp.fandom.com/wiki/Transcripts/Father...   \n",
            "193  https://mlp.fandom.com/wiki/Transcripts/School...   \n",
            "194  https://mlp.fandom.com/wiki/Transcripts/School...   \n",
            "195  https://mlp.fandom.com/wiki/Transcripts/My_Lit...   \n",
            "196  https://mlp.fandom.com/wiki/Transcripts/My_Lit...   \n",
            "\n",
            "                                              synopsis  \n",
            "0    https://mlp.fandom.com/wiki/Friendship_is_Magi...  \n",
            "1    https://mlp.fandom.com/wiki/Friendship_is_Magi...  \n",
            "2        https://mlp.fandom.com/wiki/The_Ticket_Master  \n",
            "3         https://mlp.fandom.com/wiki/Applebuck_Season  \n",
            "4    https://mlp.fandom.com/wiki/Griffon_the_Brush_Off  \n",
            "..                                                 ...  \n",
            "192     https://mlp.fandom.com/wiki/Father_Knows_Beast  \n",
            "193   https://mlp.fandom.com/wiki/School_Raze_-_Part_1  \n",
            "194   https://mlp.fandom.com/wiki/School_Raze_-_Part_2  \n",
            "195  https://mlp.fandom.com/wiki/My_Little_Pony_The...  \n",
            "196  https://mlp.fandom.com/wiki/My_Little_Pony_Bes...  \n",
            "\n",
            "[197 rows x 5 columns]\n"
          ]
        }
      ]
    },
    {
      "cell_type": "markdown",
      "source": [
        "Установите библиотеку визуализации Matplotlib . Постройте гистограмму частот по какомуто определенному столбцу (параметру)."
      ],
      "metadata": {
        "id": "-XsVvTvfpYya"
      }
    },
    {
      "cell_type": "code",
      "source": [
        "# Группировка данных по сценаристу и подсчёт количества эпизодов\n",
        "grouped_data = pony.groupby('writer').size().reset_index(name='episode_count')\n",
        "\n",
        "# Построение гистограммы\n",
        "plt.figure(figsize=(10, 6))\n",
        "plt.hist(grouped_data['episode_count'], bins=10, edgecolor='black')\n",
        "plt.title('Гистограмма частот количества эпизодов по сценаристам')\n",
        "plt.xlabel('Количество эпизодов')\n",
        "plt.ylabel('Частота')\n",
        "plt.grid(axis='y', alpha=0.75)\n",
        "plt.show()"
      ],
      "metadata": {
        "colab": {
          "base_uri": "https://localhost:8080/",
          "height": 564
        },
        "id": "SSFE7DJPpZV_",
        "outputId": "1f8a1e70-588f-4b89-fc0c-e19eb5790a96"
      },
      "execution_count": 45,
      "outputs": [
        {
          "output_type": "display_data",
          "data": {
            "text/plain": [
              "<Figure size 1000x600 with 1 Axes>"
            ],
            "image/png": "[encoded data removed]"
          },
          "metadata": {}
        }
      ]
    },
    {
      "cell_type": "markdown",
      "source": [
        "4. Рассчитайте медиану и среднее значение параметра.\n"
      ],
      "metadata": {
        "id": "L-wEvNLmp3_z"
      }
    },
    {
      "cell_type": "code",
      "source": [
        "# Рассчёт медианы и среднего значения количества эпизодов\n",
        "median_value = grouped_data['episode_count'].median()\n",
        "mean_value = grouped_data['episode_count'].mean()\n",
        "\n",
        "print(\"Медиана:\", median_value)\n",
        "print(\"Среднее значение:\", mean_value)"
      ],
      "metadata": {
        "colab": {
          "base_uri": "https://localhost:8080/"
        },
        "id": "oZRzJ-8MqARM",
        "outputId": "d1c96bce-3f2f-4caa-e515-956098ec0576"
      },
      "execution_count": 46,
      "outputs": [
        {
          "output_type": "stream",
          "name": "stdout",
          "text": [
            "Медиана: 1.0\n",
            "Среднее значение: 2.984848484848485\n"
          ]
        }
      ]
    },
    {
      "cell_type": "markdown",
      "source": [
        "5. Постройте box plot для выбранного параметра. Объясните, что на нем изображено.\n"
      ],
      "metadata": {
        "id": "ptcNc9MwrKT2"
      }
    },
    {
      "cell_type": "code",
      "source": [
        "# Построение box plot для количества эпизодов\n",
        "plt.figure(figsize=(10, 6))\n",
        "plt.boxplot(grouped_data['episode_count'])\n",
        "plt.title('Box Plot для количества эпизодов по сценаристам')\n",
        "plt.ylabel('Количество эпизодов')\n",
        "plt.grid(True)\n",
        "plt.show()"
      ],
      "metadata": {
        "colab": {
          "base_uri": "https://localhost:8080/",
          "height": 545
        },
        "id": "m53biwr2rLJ0",
        "outputId": "873a8230-f34b-444f-a523-2168fbc6349f"
      },
      "execution_count": 47,
      "outputs": [
        {
          "output_type": "display_data",
          "data": {
            "text/plain": [
              "<Figure size 1000x600 with 1 Axes>"
            ],
            "image/png": "[encoded data removed]"
          },
          "metadata": {}
        }
      ]
    },
    {
      "cell_type": "markdown",
      "source": [
        "Объяснение box plot:\n",
        "\n",
        "Ящик (box) показывает интерквартильный диапазон (IQR), который содержит 50% данных (между 1-м и 3-м квартилями).\n",
        "Линия внутри ящика — это медиана.\n",
        "\"Усы\" показывают диапазон данных, не включая выбросы.\n",
        "Выбросы (outliers) отображаются как отдельные точки."
      ],
      "metadata": {
        "id": "TVk4I5rfrQkt"
      }
    },
    {
      "cell_type": "markdown",
      "source": [
        "6. Примените к выбранному параметру метод describe(). Поясните параметры метода и\n",
        "полученные результаты."
      ],
      "metadata": {
        "id": "zCRFPusUrVQf"
      }
    },
    {
      "cell_type": "code",
      "source": [
        "description = grouped_data['episode_count'].describe()\n",
        "print(\"Описание количества эпизодов:\")\n",
        "print(description)"
      ],
      "metadata": {
        "colab": {
          "base_uri": "https://localhost:8080/"
        },
        "id": "axtFRIG6rXZQ",
        "outputId": "a198b590-a6aa-42aa-9211-0c966e7d8a21"
      },
      "execution_count": 48,
      "outputs": [
        {
          "output_type": "stream",
          "name": "stdout",
          "text": [
            "Описание количества эпизодов:\n",
            "count    66.000000\n",
            "mean      2.984848\n",
            "std       3.673156\n",
            "min       1.000000\n",
            "25%       1.000000\n",
            "50%       1.000000\n",
            "75%       3.000000\n",
            "max      15.000000\n",
            "Name: episode_count, dtype: float64\n"
          ]
        }
      ]
    },
    {
      "cell_type": "markdown",
      "source": [
        "Параметры метода describe():\n",
        "\n",
        "count: количество сценаристов.\n",
        "mean: среднее количество эпизодов.\n",
        "std: стандартное отклонение (измеряет разброс данных).\n",
        "min: минимальное количество эпизодов.\n",
        "25%: 1-й квартиль (25% сценаристов написали меньше этого количества эпизодов).\n",
        "50%: медиана (50% сценаристов написали меньше этого количества эпизодов).\n",
        "75%: 3-й квартиль (75% сценаристов написали меньше этого количества эпизодов).\n",
        "max: максимальное количество эпизодов, написанных одним сценаристом.\n",
        "Результаты описания: Эти значения дают представление о распределении данных, их центральной тенденции и разбросе."
      ],
      "metadata": {
        "id": "p1IVArydreDB"
      }
    },
    {
      "cell_type": "markdown",
      "source": [
        "7. Сгруппируйте данные по какому-либо признаку и произведите расчет и анализ по какимлибо параметрам. Примеры группировок и рассуждений можно посмотреть в примере\n",
        "Examples/Titanic.html"
      ],
      "metadata": {
        "id": "W2PB5maVrhlH"
      }
    },
    {
      "cell_type": "code",
      "source": [
        "# Группировка данных по годам и подсчёт количества эпизодов\n",
        "pony['date'] = pd.to_datetime(pony['date'])  # Преобразование колонки date в формат даты\n",
        "grouped_by_year = pony.groupby(pony['date'].dt.year).size().reset_index(name='episode_count')\n",
        "\n",
        "# Вывод результатов по годам\n",
        "print(\"Количество эпизодов по годам:\")\n",
        "print(grouped_by_year)\n",
        "\n",
        "# Визуализация количества эпизодов по годам\n",
        "plt.figure(figsize=(12, 6))\n",
        "plt.bar(grouped_by_year['date'], grouped_by_year['episode_count'], color='skyblue')\n",
        "plt.title('Количество эпизодов по годам')\n",
        "plt.xlabel('Год')\n",
        "plt.ylabel('Количество эпизодов')\n",
        "plt.xticks(rotation=45)\n",
        "plt.grid(axis='y', alpha=0.75)\n",
        "plt.show()"
      ],
      "metadata": {
        "colab": {
          "base_uri": "https://localhost:8080/",
          "height": 776
        },
        "id": "_447kBt_rjru",
        "outputId": "2252edd8-dc3d-47f7-988d-1b27bc2e5e63"
      },
      "execution_count": 49,
      "outputs": [
        {
          "output_type": "stream",
          "name": "stdout",
          "text": [
            "Количество эпизодов по годам:\n",
            "   date  episode_count\n",
            "0  2010             11\n",
            "1  2011             26\n",
            "2  2012             24\n",
            "3  2013             11\n",
            "4  2014             19\n",
            "5  2015             26\n",
            "6  2016             26\n",
            "7  2017             27\n",
            "8  2018             27\n"
          ]
        },
        {
          "output_type": "display_data",
          "data": {
            "text/plain": [
              "<Figure size 1200x600 with 1 Axes>"
            ],
            "image/png": "[encoded data removed]"
          },
          "metadata": {}
        }
      ]
    },
    {
      "cell_type": "markdown",
      "source": [
        "Анализ\n",
        "Группировка по годам позволяет увидеть тенденции в производстве эпизодов. Например, вы можете заметить, что в определенные годы было больше или меньше эпизодов.\n",
        "Это может указывать на изменения в производственном процессе, изменении спроса или других факторах."
      ],
      "metadata": {
        "id": "2JE0pY87rqfd"
      }
    }
  ]
}